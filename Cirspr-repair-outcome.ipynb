{
 "cells": [
  {
   "cell_type": "code",
   "execution_count": 31,
   "metadata": {},
   "outputs": [
    {
     "name": "stdout",
     "output_type": "stream",
     "text": [
      "Requirement already satisfied: pyTDC in /home/gitpod/.pyenv/versions/3.11.5/lib/python3.11/site-packages (0.4.1)\n",
      "Requirement already satisfied: rdkit-pypi in /home/gitpod/.pyenv/versions/3.11.5/lib/python3.11/site-packages (from pyTDC) (2022.9.5)\n",
      "Requirement already satisfied: fuzzywuzzy in /home/gitpod/.pyenv/versions/3.11.5/lib/python3.11/site-packages (from pyTDC) (0.18.0)\n",
      "Requirement already satisfied: numpy in /home/gitpod/.pyenv/versions/3.11.5/lib/python3.11/site-packages (from pyTDC) (1.26.0)\n",
      "Requirement already satisfied: pandas in /home/gitpod/.pyenv/versions/3.11.5/lib/python3.11/site-packages (from pyTDC) (2.1.1)\n",
      "Requirement already satisfied: tqdm in /home/gitpod/.pyenv/versions/3.11.5/lib/python3.11/site-packages (from pyTDC) (4.66.1)\n",
      "Requirement already satisfied: scikit-learn in /home/gitpod/.pyenv/versions/3.11.5/lib/python3.11/site-packages (from pyTDC) (1.3.1)\n",
      "Requirement already satisfied: seaborn in /home/gitpod/.pyenv/versions/3.11.5/lib/python3.11/site-packages (from pyTDC) (0.13.0)\n",
      "Requirement already satisfied: requests in /home/gitpod/.pyenv/versions/3.11.5/lib/python3.11/site-packages (from pyTDC) (2.31.0)\n",
      "Requirement already satisfied: huggingface-hub in /home/gitpod/.pyenv/versions/3.11.5/lib/python3.11/site-packages (from pyTDC) (0.17.3)\n",
      "Requirement already satisfied: dataclasses in /home/gitpod/.pyenv/versions/3.11.5/lib/python3.11/site-packages (from pyTDC) (0.6)\n",
      "Requirement already satisfied: filelock in /home/gitpod/.pyenv/versions/3.11.5/lib/python3.11/site-packages (from huggingface-hub->pyTDC) (3.12.4)\n",
      "Requirement already satisfied: fsspec in /home/gitpod/.pyenv/versions/3.11.5/lib/python3.11/site-packages (from huggingface-hub->pyTDC) (2023.9.2)\n",
      "Requirement already satisfied: pyyaml>=5.1 in /home/gitpod/.pyenv/versions/3.11.5/lib/python3.11/site-packages (from huggingface-hub->pyTDC) (6.0.1)\n",
      "Requirement already satisfied: typing-extensions>=3.7.4.3 in /home/gitpod/.pyenv/versions/3.11.5/lib/python3.11/site-packages (from huggingface-hub->pyTDC) (4.8.0)\n",
      "Requirement already satisfied: packaging>=20.9 in /home/gitpod/.pyenv/versions/3.11.5/lib/python3.11/site-packages (from huggingface-hub->pyTDC) (23.1)\n",
      "Requirement already satisfied: python-dateutil>=2.8.2 in /home/gitpod/.pyenv/versions/3.11.5/lib/python3.11/site-packages (from pandas->pyTDC) (2.8.2)\n",
      "Requirement already satisfied: pytz>=2020.1 in /home/gitpod/.pyenv/versions/3.11.5/lib/python3.11/site-packages (from pandas->pyTDC) (2023.3.post1)\n",
      "Requirement already satisfied: tzdata>=2022.1 in /home/gitpod/.pyenv/versions/3.11.5/lib/python3.11/site-packages (from pandas->pyTDC) (2023.3)\n",
      "Requirement already satisfied: Pillow in /home/gitpod/.pyenv/versions/3.11.5/lib/python3.11/site-packages (from rdkit-pypi->pyTDC) (10.0.1)\n",
      "Requirement already satisfied: charset-normalizer<4,>=2 in /home/gitpod/.pyenv/versions/3.11.5/lib/python3.11/site-packages (from requests->pyTDC) (3.2.0)\n",
      "Requirement already satisfied: idna<4,>=2.5 in /home/gitpod/.pyenv/versions/3.11.5/lib/python3.11/site-packages (from requests->pyTDC) (3.4)\n",
      "Requirement already satisfied: urllib3<3,>=1.21.1 in /home/gitpod/.pyenv/versions/3.11.5/lib/python3.11/site-packages (from requests->pyTDC) (2.0.5)\n",
      "Requirement already satisfied: certifi>=2017.4.17 in /home/gitpod/.pyenv/versions/3.11.5/lib/python3.11/site-packages (from requests->pyTDC) (2023.7.22)\n",
      "Requirement already satisfied: scipy>=1.5.0 in /home/gitpod/.pyenv/versions/3.11.5/lib/python3.11/site-packages (from scikit-learn->pyTDC) (1.11.3)\n",
      "Requirement already satisfied: joblib>=1.1.1 in /home/gitpod/.pyenv/versions/3.11.5/lib/python3.11/site-packages (from scikit-learn->pyTDC) (1.3.2)\n",
      "Requirement already satisfied: threadpoolctl>=2.0.0 in /home/gitpod/.pyenv/versions/3.11.5/lib/python3.11/site-packages (from scikit-learn->pyTDC) (3.2.0)\n",
      "Requirement already satisfied: matplotlib!=3.6.1,>=3.3 in /home/gitpod/.pyenv/versions/3.11.5/lib/python3.11/site-packages (from seaborn->pyTDC) (3.8.0)\n",
      "Requirement already satisfied: contourpy>=1.0.1 in /home/gitpod/.pyenv/versions/3.11.5/lib/python3.11/site-packages (from matplotlib!=3.6.1,>=3.3->seaborn->pyTDC) (1.1.1)\n",
      "Requirement already satisfied: cycler>=0.10 in /home/gitpod/.pyenv/versions/3.11.5/lib/python3.11/site-packages (from matplotlib!=3.6.1,>=3.3->seaborn->pyTDC) (0.12.0)\n",
      "Requirement already satisfied: fonttools>=4.22.0 in /home/gitpod/.pyenv/versions/3.11.5/lib/python3.11/site-packages (from matplotlib!=3.6.1,>=3.3->seaborn->pyTDC) (4.43.0)\n",
      "Requirement already satisfied: kiwisolver>=1.0.1 in /home/gitpod/.pyenv/versions/3.11.5/lib/python3.11/site-packages (from matplotlib!=3.6.1,>=3.3->seaborn->pyTDC) (1.4.5)\n",
      "Requirement already satisfied: pyparsing>=2.3.1 in /home/gitpod/.pyenv/versions/3.11.5/lib/python3.11/site-packages (from matplotlib!=3.6.1,>=3.3->seaborn->pyTDC) (3.1.1)\n",
      "Requirement already satisfied: six>=1.5 in /home/gitpod/.pyenv/versions/3.11.5/lib/python3.11/site-packages (from python-dateutil>=2.8.2->pandas->pyTDC) (1.16.0)\n"
     ]
    }
   ],
   "source": [
    "!pip install pyTDC"
   ]
  },
  {
   "cell_type": "code",
   "execution_count": 32,
   "metadata": {},
   "outputs": [],
   "source": [
    "#To obtain the label names,\n",
    "from tdc.utils import retrieve_label_name_list\n",
    "label_list = retrieve_label_name_list('Leenay')"
   ]
  },
  {
   "cell_type": "code",
   "execution_count": 33,
   "metadata": {},
   "outputs": [
    {
     "name": "stderr",
     "output_type": "stream",
     "text": [
      "Found local copy...\n",
      "Loading...\n",
      "Done!\n"
     ]
    },
    {
     "name": "stdout",
     "output_type": "stream",
     "text": [
      "{'train':         GuideSeq_ID                 GuideSeq         Y\n",
      "0        GuideSeq 1  CTGCAGGGCTAGTTTCCTATAGG  0.069572\n",
      "1        GuideSeq 2  GAGATGCGGACCACCCAGCTGGG  0.287647\n",
      "2        GuideSeq 3  GCAAACGGAAGTGCAATTGTCGG  0.137004\n",
      "3        GuideSeq 4  GTCATCGCTGAGTTGAGGAAGGG  0.093889\n",
      "4        GuideSeq 5  ATATGATTATCCCTGCACAAGGG  0.526525\n",
      "...             ...                      ...       ...\n",
      "1060  GuideSeq 1517  ATGCCCGACCAAAGACAACCAGG  0.093236\n",
      "1061  GuideSeq 1518  CACGCTGTCATCCACCAGGTAGG  0.069054\n",
      "1062  GuideSeq 1519  GGGCTCCAGAGTCTGATACAGGG  0.421439\n",
      "1063  GuideSeq 1520  AAAGACTTCGGTCCTCTAGTAGG  0.206277\n",
      "1064  GuideSeq 1521  TCGTCGCCCAGTGTCCAAGTGGG  0.284117\n",
      "\n",
      "[1065 rows x 3 columns], 'valid':        GuideSeq_ID                 GuideSeq         Y\n",
      "0     GuideSeq 841  CCTTGTGAATCTCCTCACGGAGG  0.394674\n",
      "1     GuideSeq 101  CGCTTTACCTGCGACCAGGTAGG  0.072320\n",
      "2     GuideSeq 235  CATTCTCCAAGTGACAAGGTAGG  0.049883\n",
      "3     GuideSeq 162  CTTGGTCATGCCTTCCCGGTAGG  0.206285\n",
      "4     GuideSeq 421  AAAGTACTCGAAGTATTCTTGGG  0.061223\n",
      "..             ...                      ...       ...\n",
      "147   GuideSeq 986  TTTACTCTCAGAAACCTACCTGG  0.113981\n",
      "148   GuideSeq 744  GATGAGGCCTGTAGAGACGTAGG  0.092636\n",
      "149  GuideSeq 1447  TTGCCTACTCACTTCCTTGGAGG  0.211790\n",
      "150   GuideSeq 521  CTATCCCTCACGATGGAAGTAGG  0.089396\n",
      "151  GuideSeq 1029  ATGGGTGACCGGCTGCTATTGGG  0.391708\n",
      "\n",
      "[152 rows x 3 columns], 'test':        GuideSeq_ID                 GuideSeq         Y\n",
      "0     GuideSeq 567  TGTGCAATATCTGGTACTAAGGG  0.176660\n",
      "1    GuideSeq 1102  TGTCTGGCCAGCAGAATACAGGG  0.300800\n",
      "2    GuideSeq 1474  ACTGAGAGTGGATCCGAAAGTGG  0.153200\n",
      "3    GuideSeq 1178  GTTCTGCACCAGCACATTCACGG  0.192665\n",
      "4    GuideSeq 1010  ACTGGATGGACAAGACTGGTGGG  0.229076\n",
      "..             ...                      ...       ...\n",
      "299  GuideSeq 1413  TATGAAGCATGGGTCTGAGTCGG  0.108374\n",
      "300   GuideSeq 721  ATGTTGGACAGCTGCCCGGTGGG  0.203401\n",
      "301   GuideSeq 234  GACCAGGGCCACATCTTTAAAGG  0.143219\n",
      "302   GuideSeq 894  AGTAGACTGACCTGGTAGGAGGG  0.200965\n",
      "303   GuideSeq 197  CTCCAAATGGCAAAGCAGTTAGG  0.316619\n",
      "\n",
      "[304 rows x 3 columns]}\n"
     ]
    }
   ],
   "source": [
    "#Then, proceed with the usual data loader\n",
    "from tdc.single_pred import CRISPROutcome\n",
    "data = CRISPROutcome(name = 'Leenay', label_name = label_list[0])\n",
    "df = data.get_split()\n",
    "print(df)"
   ]
  },
  {
   "cell_type": "code",
   "execution_count": 34,
   "metadata": {},
   "outputs": [
    {
     "name": "stdout",
     "output_type": "stream",
     "text": [
      "DataFrame converted and saved to CSV successfully.\n",
      "        GuideSeq_ID                 GuideSeq         Y\n",
      "0        GuideSeq 1  CTGCAGGGCTAGTTTCCTATAGG  0.069572\n",
      "1        GuideSeq 2  GAGATGCGGACCACCCAGCTGGG  0.287647\n",
      "2        GuideSeq 3  GCAAACGGAAGTGCAATTGTCGG  0.137004\n",
      "3        GuideSeq 4  GTCATCGCTGAGTTGAGGAAGGG  0.093889\n",
      "4        GuideSeq 5  ATATGATTATCCCTGCACAAGGG  0.526525\n",
      "...             ...                      ...       ...\n",
      "1060  GuideSeq 1517  ATGCCCGACCAAAGACAACCAGG  0.093236\n",
      "1061  GuideSeq 1518  CACGCTGTCATCCACCAGGTAGG  0.069054\n",
      "1062  GuideSeq 1519  GGGCTCCAGAGTCTGATACAGGG  0.421439\n",
      "1063  GuideSeq 1520  AAAGACTTCGGTCCTCTAGTAGG  0.206277\n",
      "1064  GuideSeq 1521  TCGTCGCCCAGTGTCCAAGTGGG  0.284117\n",
      "\n",
      "[1065 rows x 3 columns]\n"
     ]
    }
   ],
   "source": [
    "import pandas as pd\n",
    "# Convert the dictionary to a DataFrame\n",
    "df = pd.DataFrame(df['train'])\n",
    "\n",
    "# Write the DataFrame to a CSV file\n",
    "df.to_csv('train.csv', index=False)\n",
    "\n",
    "print('DataFrame converted and saved to CSV successfully.')\n",
    "print(df)"
   ]
  },
  {
   "cell_type": "code",
   "execution_count": 35,
   "metadata": {},
   "outputs": [
    {
     "name": "stdout",
     "output_type": "stream",
     "text": [
      "Requirement already satisfied: xgboost in /home/gitpod/.pyenv/versions/3.11.5/lib/python3.11/site-packages (2.0.0)\n"
     ]
    },
    {
     "name": "stdout",
     "output_type": "stream",
     "text": [
      "Requirement already satisfied: numpy in /home/gitpod/.pyenv/versions/3.11.5/lib/python3.11/site-packages (from xgboost) (1.26.0)\n",
      "Requirement already satisfied: scipy in /home/gitpod/.pyenv/versions/3.11.5/lib/python3.11/site-packages (from xgboost) (1.11.3)\n"
     ]
    }
   ],
   "source": [
    "!pip install xgboost\n"
   ]
  },
  {
   "cell_type": "markdown",
   "metadata": {},
   "source": [
    "## Importing the Libraries "
   ]
  },
  {
   "cell_type": "code",
   "execution_count": 36,
   "metadata": {},
   "outputs": [],
   "source": [
    "import pandas as pd\n",
    "from sklearn.model_selection import train_test_split\n",
    "from sklearn.linear_model import LinearRegression\n",
    "from sklearn.ensemble import RandomForestRegressor, GradientBoostingRegressor\n",
    "from sklearn.svm import SVR\n",
    "from sklearn.metrics import mean_squared_error, r2_score\n",
    "from sklearn.preprocessing import LabelEncoder\n",
    "from sklearn.model_selection import cross_val_score\n",
    "from xgboost import XGBRegressor\n",
    "\n",
    "# Assuming df is your DataFrame with columns 'GuideSeq_ID', 'GuideSeq', and 'Y'\n",
    "\n",
    "train_df = pd.read_csv(\"/workspace/Crispr-repair-outcome/train.csv\")\n",
    "\n",
    "train_GuideSeq = train_df['GuideSeq']\n",
    "train_Y = train_df['Y']"
   ]
  },
  {
   "cell_type": "markdown",
   "metadata": {},
   "source": [
    "## Encoding "
   ]
  },
  {
   "cell_type": "code",
   "execution_count": 37,
   "metadata": {},
   "outputs": [],
   "source": [
    "# Encode GuideSeq column if needed (assuming it's categorical)\n",
    "label_encoder = LabelEncoder()\n",
    "train_df['GuideSeq_encoded'] = label_encoder.fit_transform(train_GuideSeq)"
   ]
  },
  {
   "cell_type": "markdown",
   "metadata": {},
   "source": [
    "##  Data Spltting"
   ]
  },
  {
   "cell_type": "code",
   "execution_count": 38,
   "metadata": {},
   "outputs": [],
   "source": [
    "# Split the data into features (X) and target variable (y)\n",
    "X = train_df[['GuideSeq_encoded']]  # Use appropriate features\n",
    "y = train_df['Y']\n",
    "\n",
    "# Split the data into training and testing sets\n",
    "X_train, X_test, y_train, y_test = train_test_split(X, y, test_size=0.2, random_state=42)"
   ]
  },
  {
   "cell_type": "markdown",
   "metadata": {},
   "source": [
    "## Model Buidling"
   ]
  },
  {
   "cell_type": "code",
   "execution_count": 39,
   "metadata": {},
   "outputs": [],
   "source": [
    "# Models\n",
    "models = {\n",
    "    'Linear Regression': LinearRegression(),\n",
    "    'Random Forest': RandomForestRegressor(),\n",
    "    'Gradient Boosting': GradientBoostingRegressor(),\n",
    "    'SVR': SVR(),\n",
    "    'XGBoost': XGBRegressor()\n",
    "}"
   ]
  },
  {
   "cell_type": "markdown",
   "metadata": {},
   "source": [
    "## Model Prediction and Evaluation"
   ]
  },
  {
   "cell_type": "code",
   "execution_count": 40,
   "metadata": {},
   "outputs": [
    {
     "name": "stdout",
     "output_type": "stream",
     "text": [
      "Model: Linear Regression\n",
      "Mean Squared Error: 0.03554477528886801\n",
      "R-squared: 0.00048572515817491\n",
      "Model: Random Forest\n",
      "Mean Squared Error: 0.03554477528886801\n",
      "R-squared: -0.5491099875910446\n",
      "Model: Gradient Boosting\n",
      "Mean Squared Error: 0.03554477528886801\n",
      "R-squared: -0.0738030269140022\n",
      "Model: SVR\n",
      "Mean Squared Error: 0.03554477528886801\n",
      "R-squared: -0.006220921433394144\n",
      "Model: XGBoost\n",
      "Mean Squared Error: 0.03554477528886801\n",
      "R-squared: -0.34872538012483445\n"
     ]
    }
   ],
   "source": [
    "for model_name, model in models.items():\n",
    "    model.fit(X_train, y_train)  # Train the model\n",
    "    y_pred = model.predict(X_test)  # Make predictionsmse = mean_squared_error(y_test, y_pred)\n",
    "    r2 = r2_score(y_test, y_pred)\n",
    "    print(f'Model: {model_name}')\n",
    "    print(f'Mean Squared Error: {mse}')\n",
    "    print(f'R-squared: {r2}')"
   ]
  },
  {
   "cell_type": "markdown",
   "metadata": {},
   "source": [
    "## Save the Model to a Pickle File"
   ]
  },
  {
   "cell_type": "code",
   "execution_count": 44,
   "metadata": {},
   "outputs": [
    {
     "name": "stdout",
     "output_type": "stream",
     "text": [
      "Best model saved to best_model.pkl\n"
     ]
    }
   ],
   "source": [
    "import pickle\n",
    "\n",
    "best_model = None\n",
    "best_r2 = float('-inf')  # Initialize with negative infinity\n",
    "\n",
    "# Check if the current model has a higher R-squared than the best so far\n",
    "if r2 > best_r2:\n",
    "    best_r2 = r2\n",
    "    best_model = model\n",
    "\n",
    "\n",
    "# Save the best model to a file using pickle\n",
    "if best_model is not None:\n",
    "    with open('regression.pkl', 'wb') as file:\n",
    "        pickle.dump(best_model, file)\n",
    "        print('Best model saved to best_model.pkl')\n",
    "else:\n",
    "    print('No best model found.')"
   ]
  },
  {
   "cell_type": "code",
   "execution_count": null,
   "metadata": {},
   "outputs": [],
   "source": []
  }
 ],
 "metadata": {
  "kernelspec": {
   "display_name": "Python 3",
   "language": "python",
   "name": "python3"
  },
  "language_info": {
   "codemirror_mode": {
    "name": "ipython",
    "version": 3
   },
   "file_extension": ".py",
   "mimetype": "text/x-python",
   "name": "python",
   "nbconvert_exporter": "python",
   "pygments_lexer": "ipython3",
   "version": "3.11.5"
  },
  "orig_nbformat": 4
 },
 "nbformat": 4,
 "nbformat_minor": 2
}
