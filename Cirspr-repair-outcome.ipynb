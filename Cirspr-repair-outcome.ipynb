{
 "cells": [
  {
   "cell_type": "code",
   "execution_count": 1,
   "metadata": {},
   "outputs": [
    {
     "name": "stdout",
     "output_type": "stream",
     "text": [
      "Collecting pyTDC\n",
      "  Downloading PyTDC-0.4.1.tar.gz (107 kB)\n",
      "\u001b[2K     \u001b[90m━━━━━━━━━━━━━━━━━━━━━━━━━━━━━━━━━━━━━━━\u001b[0m \u001b[32m107.7/107.7 kB\u001b[0m \u001b[31m5.8 MB/s\u001b[0m eta \u001b[36m0:00:00\u001b[0m\n",
      "\u001b[?25h  Preparing metadata (setup.py) ... \u001b[?25ldone\n",
      "\u001b[?25hCollecting rdkit-pypi (from pyTDC)\n",
      "  Downloading rdkit_pypi-2022.9.5-cp311-cp311-manylinux_2_17_x86_64.manylinux2014_x86_64.whl (29.4 MB)\n",
      "\u001b[2K     \u001b[90m━━━━━━━━━━━━━━━━━━━━━━━━━━━━━━━━━━━━━━━━\u001b[0m \u001b[32m29.4/29.4 MB\u001b[0m \u001b[31m17.3 MB/s\u001b[0m eta \u001b[36m0:00:00\u001b[0m00:01\u001b[0m00:01\u001b[0m\n",
      "\u001b[?25hCollecting fuzzywuzzy (from pyTDC)\n",
      "  Downloading fuzzywuzzy-0.18.0-py2.py3-none-any.whl (18 kB)\n",
      "Requirement already satisfied: numpy in /workspace/.pyenv_mirror/user/current/lib/python3.11/site-packages (from pyTDC) (1.26.0)\n",
      "Requirement already satisfied: pandas in /workspace/.pyenv_mirror/user/current/lib/python3.11/site-packages (from pyTDC) (2.1.1)\n",
      "Collecting tqdm (from pyTDC)\n",
      "  Obtaining dependency information for tqdm from https://files.pythonhosted.org/packages/00/e5/f12a80907d0884e6dff9c16d0c0114d81b8cd07dc3ae54c5e962cc83037e/tqdm-4.66.1-py3-none-any.whl.metadata\n",
      "  Downloading tqdm-4.66.1-py3-none-any.whl.metadata (57 kB)\n",
      "\u001b[2K     \u001b[90m━━━━━━━━━━━━━━━━━━━━━━━━━━━━━━━━━━━━━━━━\u001b[0m \u001b[32m57.6/57.6 kB\u001b[0m \u001b[31m27.4 MB/s\u001b[0m eta \u001b[36m0:00:00\u001b[0m\n",
      "\u001b[?25hRequirement already satisfied: scikit-learn in /workspace/.pyenv_mirror/user/current/lib/python3.11/site-packages (from pyTDC) (1.3.1)\n",
      "Collecting seaborn (from pyTDC)\n",
      "  Obtaining dependency information for seaborn from https://files.pythonhosted.org/packages/7b/e5/83fcd7e9db036c179e0352bfcd20f81d728197a16f883e7b90307a88e65e/seaborn-0.13.0-py3-none-any.whl.metadata\n",
      "  Downloading seaborn-0.13.0-py3-none-any.whl.metadata (5.3 kB)\n",
      "Requirement already satisfied: requests in /home/gitpod/.pyenv/versions/3.11.5/lib/python3.11/site-packages (from pyTDC) (2.31.0)\n",
      "Collecting huggingface_hub (from pyTDC)\n",
      "  Obtaining dependency information for huggingface_hub from https://files.pythonhosted.org/packages/aa/f3/3fc97336a0e90516901befd4f500f08d691034d387406fdbde85bea827cc/huggingface_hub-0.17.3-py3-none-any.whl.metadata\n",
      "  Downloading huggingface_hub-0.17.3-py3-none-any.whl.metadata (13 kB)\n",
      "Collecting dataclasses (from pyTDC)\n",
      "  Downloading dataclasses-0.6-py3-none-any.whl (14 kB)\n",
      "Requirement already satisfied: filelock in /home/gitpod/.pyenv/versions/3.11.5/lib/python3.11/site-packages (from huggingface_hub->pyTDC) (3.12.4)\n",
      "Collecting fsspec (from huggingface_hub->pyTDC)\n",
      "  Obtaining dependency information for fsspec from https://files.pythonhosted.org/packages/fe/d3/e1aa96437d944fbb9cc95d0316e25583886e9cd9e6adc07baad943524eda/fsspec-2023.9.2-py3-none-any.whl.metadata\n",
      "  Downloading fsspec-2023.9.2-py3-none-any.whl.metadata (6.7 kB)\n",
      "Requirement already satisfied: pyyaml>=5.1 in /home/gitpod/.pyenv/versions/3.11.5/lib/python3.11/site-packages (from huggingface_hub->pyTDC) (6.0.1)\n",
      "Requirement already satisfied: typing-extensions>=3.7.4.3 in /home/gitpod/.pyenv/versions/3.11.5/lib/python3.11/site-packages (from huggingface_hub->pyTDC) (4.8.0)\n",
      "Requirement already satisfied: packaging>=20.9 in /home/gitpod/.pyenv/versions/3.11.5/lib/python3.11/site-packages (from huggingface_hub->pyTDC) (23.1)\n",
      "Requirement already satisfied: python-dateutil>=2.8.2 in /home/gitpod/.pyenv/versions/3.11.5/lib/python3.11/site-packages (from pandas->pyTDC) (2.8.2)\n",
      "Requirement already satisfied: pytz>=2020.1 in /workspace/.pyenv_mirror/user/current/lib/python3.11/site-packages (from pandas->pyTDC) (2023.3.post1)\n",
      "Requirement already satisfied: tzdata>=2022.1 in /workspace/.pyenv_mirror/user/current/lib/python3.11/site-packages (from pandas->pyTDC) (2023.3)\n",
      "Collecting Pillow (from rdkit-pypi->pyTDC)\n",
      "  Obtaining dependency information for Pillow from https://files.pythonhosted.org/packages/3c/49/f87cecbdec4b00cc1187f01196d48c08828204cd861915fab44972dc705c/Pillow-10.0.1-cp311-cp311-manylinux_2_28_x86_64.whl.metadata\n",
      "  Downloading Pillow-10.0.1-cp311-cp311-manylinux_2_28_x86_64.whl.metadata (9.5 kB)\n",
      "Requirement already satisfied: charset-normalizer<4,>=2 in /home/gitpod/.pyenv/versions/3.11.5/lib/python3.11/site-packages (from requests->pyTDC) (3.2.0)\n",
      "Requirement already satisfied: idna<4,>=2.5 in /home/gitpod/.pyenv/versions/3.11.5/lib/python3.11/site-packages (from requests->pyTDC) (3.4)\n",
      "Requirement already satisfied: urllib3<3,>=1.21.1 in /home/gitpod/.pyenv/versions/3.11.5/lib/python3.11/site-packages (from requests->pyTDC) (2.0.5)\n",
      "Requirement already satisfied: certifi>=2017.4.17 in /home/gitpod/.pyenv/versions/3.11.5/lib/python3.11/site-packages (from requests->pyTDC) (2023.7.22)\n",
      "Requirement already satisfied: scipy>=1.5.0 in /workspace/.pyenv_mirror/user/current/lib/python3.11/site-packages (from scikit-learn->pyTDC) (1.11.3)\n",
      "Requirement already satisfied: joblib>=1.1.1 in /workspace/.pyenv_mirror/user/current/lib/python3.11/site-packages (from scikit-learn->pyTDC) (1.3.2)\n",
      "Requirement already satisfied: threadpoolctl>=2.0.0 in /workspace/.pyenv_mirror/user/current/lib/python3.11/site-packages (from scikit-learn->pyTDC) (3.2.0)\n",
      "Collecting matplotlib!=3.6.1,>=3.3 (from seaborn->pyTDC)\n",
      "  Obtaining dependency information for matplotlib!=3.6.1,>=3.3 from https://files.pythonhosted.org/packages/65/5b/3b8fd7d66043f0638a35fa650570cbe69efd42fe169e5024f9307598b47e/matplotlib-3.8.0-cp311-cp311-manylinux_2_17_x86_64.manylinux2014_x86_64.whl.metadata\n",
      "  Downloading matplotlib-3.8.0-cp311-cp311-manylinux_2_17_x86_64.manylinux2014_x86_64.whl.metadata (5.8 kB)\n",
      "Collecting contourpy>=1.0.1 (from matplotlib!=3.6.1,>=3.3->seaborn->pyTDC)\n",
      "  Obtaining dependency information for contourpy>=1.0.1 from https://files.pythonhosted.org/packages/b7/f6/78f60fa0b6ae64971178e2542e8b3ad3ba5f4f379b918ab7b18038a3f897/contourpy-1.1.1-cp311-cp311-manylinux_2_17_x86_64.manylinux2014_x86_64.whl.metadata\n",
      "  Downloading contourpy-1.1.1-cp311-cp311-manylinux_2_17_x86_64.manylinux2014_x86_64.whl.metadata (5.9 kB)\n",
      "Collecting cycler>=0.10 (from matplotlib!=3.6.1,>=3.3->seaborn->pyTDC)\n",
      "  Obtaining dependency information for cycler>=0.10 from https://files.pythonhosted.org/packages/2b/b3/70c33027c4918c10ccf176014b38f8b91cb18ac018a78854543a4fc72609/cycler-0.12.0-py3-none-any.whl.metadata\n",
      "  Downloading cycler-0.12.0-py3-none-any.whl.metadata (3.8 kB)\n",
      "Collecting fonttools>=4.22.0 (from matplotlib!=3.6.1,>=3.3->seaborn->pyTDC)\n",
      "  Obtaining dependency information for fonttools>=4.22.0 from https://files.pythonhosted.org/packages/ca/3b/9554bcd5005f994ab65e8238c713e62ddfd30e1d003a0b8e77193a0c2356/fonttools-4.43.0-cp311-cp311-manylinux_2_17_x86_64.manylinux2014_x86_64.whl.metadata\n",
      "  Downloading fonttools-4.43.0-cp311-cp311-manylinux_2_17_x86_64.manylinux2014_x86_64.whl.metadata (151 kB)\n",
      "\u001b[2K     \u001b[90m━━━━━━━━━━━━━━━━━━━━━━━━━━━━━━━━━━━━━━\u001b[0m \u001b[32m151.9/151.9 kB\u001b[0m \u001b[31m71.9 MB/s\u001b[0m eta \u001b[36m0:00:00\u001b[0m\n",
      "\u001b[?25hCollecting kiwisolver>=1.0.1 (from matplotlib!=3.6.1,>=3.3->seaborn->pyTDC)\n",
      "  Obtaining dependency information for kiwisolver>=1.0.1 from https://files.pythonhosted.org/packages/17/ba/17a706b232308e65f57deeccae503c268292e6a091313f6ce833a23093ea/kiwisolver-1.4.5-cp311-cp311-manylinux_2_17_x86_64.manylinux2014_x86_64.whl.metadata\n",
      "  Downloading kiwisolver-1.4.5-cp311-cp311-manylinux_2_17_x86_64.manylinux2014_x86_64.whl.metadata (6.4 kB)\n",
      "Collecting pyparsing>=2.3.1 (from matplotlib!=3.6.1,>=3.3->seaborn->pyTDC)\n",
      "  Obtaining dependency information for pyparsing>=2.3.1 from https://files.pythonhosted.org/packages/39/92/8486ede85fcc088f1b3dba4ce92dd29d126fd96b0008ea213167940a2475/pyparsing-3.1.1-py3-none-any.whl.metadata\n",
      "  Downloading pyparsing-3.1.1-py3-none-any.whl.metadata (5.1 kB)\n",
      "Requirement already satisfied: six>=1.5 in /home/gitpod/.pyenv/versions/3.11.5/lib/python3.11/site-packages (from python-dateutil>=2.8.2->pandas->pyTDC) (1.16.0)\n",
      "Downloading huggingface_hub-0.17.3-py3-none-any.whl (295 kB)\n",
      "\u001b[2K   \u001b[90m━━━━━━━━━━━━━━━━━━━━━━━━━━━━━━━━━━━━━━━━\u001b[0m \u001b[32m295.0/295.0 kB\u001b[0m \u001b[31m84.3 MB/s\u001b[0m eta \u001b[36m0:00:00\u001b[0m\n",
      "\u001b[?25hDownloading tqdm-4.66.1-py3-none-any.whl (78 kB)\n",
      "\u001b[2K   \u001b[90m━━━━━━━━━━━━━━━━━━━━━━━━━━━━━━━━━━━━━━━━\u001b[0m \u001b[32m78.3/78.3 kB\u001b[0m \u001b[31m31.5 MB/s\u001b[0m eta \u001b[36m0:00:00\u001b[0m\n",
      "\u001b[?25hDownloading seaborn-0.13.0-py3-none-any.whl (294 kB)\n",
      "\u001b[2K   \u001b[90m━━━━━━━━━━━━━━━━━━━━━━━━━━━━━━━━━━━━━━━\u001b[0m \u001b[32m294.6/294.6 kB\u001b[0m \u001b[31m104.5 MB/s\u001b[0m eta \u001b[36m0:00:00\u001b[0m\n",
      "\u001b[?25hDownloading matplotlib-3.8.0-cp311-cp311-manylinux_2_17_x86_64.manylinux2014_x86_64.whl (11.6 MB)\n",
      "\u001b[2K   \u001b[90m━━━━━━━━━━━━━━━━━━━━━━━━━━━━━━━━━━━━━━━━\u001b[0m \u001b[32m11.6/11.6 MB\u001b[0m \u001b[31m63.2 MB/s\u001b[0m eta \u001b[36m0:00:00\u001b[0m:00:01\u001b[0m0:01\u001b[0m\n",
      "\u001b[?25hDownloading Pillow-10.0.1-cp311-cp311-manylinux_2_28_x86_64.whl (3.6 MB)\n",
      "\u001b[2K   \u001b[90m━━━━━━━━━━━━━━━━━━━━━━━━━━━━━━━━━━━━━━━━\u001b[0m \u001b[32m3.6/3.6 MB\u001b[0m \u001b[31m128.7 MB/s\u001b[0m eta \u001b[36m0:00:00\u001b[0m\n",
      "\u001b[?25hDownloading fsspec-2023.9.2-py3-none-any.whl (173 kB)\n",
      "\u001b[2K   \u001b[90m━━━━━━━━━━━━━━━━━━━━━━━━━━━━━━━━━━━━━━━━\u001b[0m \u001b[32m173.4/173.4 kB\u001b[0m \u001b[31m66.7 MB/s\u001b[0m eta \u001b[36m0:00:00\u001b[0m\n",
      "\u001b[?25hDownloading contourpy-1.1.1-cp311-cp311-manylinux_2_17_x86_64.manylinux2014_x86_64.whl (302 kB)\n",
      "\u001b[2K   \u001b[90m━━━━━━━━━━━━━━━━━━━━━━━━━━━━━━━━━━━━━━━\u001b[0m \u001b[32m302.8/302.8 kB\u001b[0m \u001b[31m100.2 MB/s\u001b[0m eta \u001b[36m0:00:00\u001b[0m\n",
      "\u001b[?25hDownloading cycler-0.12.0-py3-none-any.whl (8.2 kB)\n",
      "Downloading fonttools-4.43.0-cp311-cp311-manylinux_2_17_x86_64.manylinux2014_x86_64.whl (4.9 MB)\n",
      "\u001b[2K   \u001b[90m━━━━━━━━━━━━━━━━━━━━━━━━━━━━━━━━━━━━━━━━\u001b[0m \u001b[32m4.9/4.9 MB\u001b[0m \u001b[31m159.9 MB/s\u001b[0m eta \u001b[36m0:00:00\u001b[0m\n",
      "\u001b[?25hDownloading kiwisolver-1.4.5-cp311-cp311-manylinux_2_17_x86_64.manylinux2014_x86_64.whl (1.4 MB)\n",
      "\u001b[2K   \u001b[90m━━━━━━━━━━━━━━━━━━━━━━━━━━━━━━━━━━━━━━━━\u001b[0m \u001b[32m1.4/1.4 MB\u001b[0m \u001b[31m162.2 MB/s\u001b[0m eta \u001b[36m0:00:00\u001b[0m\n",
      "\u001b[?25hDownloading pyparsing-3.1.1-py3-none-any.whl (103 kB)\n",
      "\u001b[2K   \u001b[90m━━━━━━━━━━━━━━━━━━━━━━━━━━━━━━━━━━━━━━━━\u001b[0m \u001b[32m103.1/103.1 kB\u001b[0m \u001b[31m64.5 MB/s\u001b[0m eta \u001b[36m0:00:00\u001b[0m\n",
      "\u001b[?25hBuilding wheels for collected packages: pyTDC\n",
      "  Building wheel for pyTDC (setup.py) ... \u001b[?25ldone\n",
      "\u001b[?25h  Created wheel for pyTDC: filename=PyTDC-0.4.1-py3-none-any.whl size=140644 sha256=e2159b3af81accd5a8e337368732a73d3850b4c519ba483b3a1cc84f683dc351\n",
      "  Stored in directory: /workspace/.pyenv_mirror/pip_cache/wheels/73/5c/91/b75dc198398af573f197c0e5d23c568fc90a8319ab09a7955b\n",
      "Successfully built pyTDC\n",
      "Installing collected packages: fuzzywuzzy, dataclasses, tqdm, pyparsing, Pillow, kiwisolver, fsspec, fonttools, cycler, contourpy, rdkit-pypi, matplotlib, huggingface_hub, seaborn, pyTDC\n",
      "Successfully installed Pillow-10.0.1 contourpy-1.1.1 cycler-0.12.0 dataclasses-0.6 fonttools-4.43.0 fsspec-2023.9.2 fuzzywuzzy-0.18.0 huggingface_hub-0.17.3 kiwisolver-1.4.5 matplotlib-3.8.0 pyTDC-0.4.1 pyparsing-3.1.1 rdkit-pypi-2022.9.5 seaborn-0.13.0 tqdm-4.66.1\n"
     ]
    }
   ],
   "source": [
    "!pip install pyTDC"
   ]
  },
  {
   "cell_type": "code",
   "execution_count": 2,
   "metadata": {},
   "outputs": [],
   "source": [
    "#To obtain the label names,\n",
    "from tdc.utils import retrieve_label_name_list\n",
    "label_list = retrieve_label_name_list('Leenay')"
   ]
  },
  {
   "cell_type": "code",
   "execution_count": 3,
   "metadata": {},
   "outputs": [
    {
     "name": "stderr",
     "output_type": "stream",
     "text": [
      "Found local copy...\n",
      "Loading...\n",
      "Done!\n"
     ]
    },
    {
     "name": "stdout",
     "output_type": "stream",
     "text": [
      "{'train':         GuideSeq_ID                 GuideSeq         Y\n",
      "0        GuideSeq 1  CTGCAGGGCTAGTTTCCTATAGG  0.069572\n",
      "1        GuideSeq 2  GAGATGCGGACCACCCAGCTGGG  0.287647\n",
      "2        GuideSeq 3  GCAAACGGAAGTGCAATTGTCGG  0.137004\n",
      "3        GuideSeq 4  GTCATCGCTGAGTTGAGGAAGGG  0.093889\n",
      "4        GuideSeq 5  ATATGATTATCCCTGCACAAGGG  0.526525\n",
      "...             ...                      ...       ...\n",
      "1060  GuideSeq 1517  ATGCCCGACCAAAGACAACCAGG  0.093236\n",
      "1061  GuideSeq 1518  CACGCTGTCATCCACCAGGTAGG  0.069054\n",
      "1062  GuideSeq 1519  GGGCTCCAGAGTCTGATACAGGG  0.421439\n",
      "1063  GuideSeq 1520  AAAGACTTCGGTCCTCTAGTAGG  0.206277\n",
      "1064  GuideSeq 1521  TCGTCGCCCAGTGTCCAAGTGGG  0.284117\n",
      "\n",
      "[1065 rows x 3 columns], 'valid':        GuideSeq_ID                 GuideSeq         Y\n",
      "0     GuideSeq 841  CCTTGTGAATCTCCTCACGGAGG  0.394674\n",
      "1     GuideSeq 101  CGCTTTACCTGCGACCAGGTAGG  0.072320\n",
      "2     GuideSeq 235  CATTCTCCAAGTGACAAGGTAGG  0.049883\n",
      "3     GuideSeq 162  CTTGGTCATGCCTTCCCGGTAGG  0.206285\n",
      "4     GuideSeq 421  AAAGTACTCGAAGTATTCTTGGG  0.061223\n",
      "..             ...                      ...       ...\n",
      "147   GuideSeq 986  TTTACTCTCAGAAACCTACCTGG  0.113981\n",
      "148   GuideSeq 744  GATGAGGCCTGTAGAGACGTAGG  0.092636\n",
      "149  GuideSeq 1447  TTGCCTACTCACTTCCTTGGAGG  0.211790\n",
      "150   GuideSeq 521  CTATCCCTCACGATGGAAGTAGG  0.089396\n",
      "151  GuideSeq 1029  ATGGGTGACCGGCTGCTATTGGG  0.391708\n",
      "\n",
      "[152 rows x 3 columns], 'test':        GuideSeq_ID                 GuideSeq         Y\n",
      "0     GuideSeq 567  TGTGCAATATCTGGTACTAAGGG  0.176660\n",
      "1    GuideSeq 1102  TGTCTGGCCAGCAGAATACAGGG  0.300800\n",
      "2    GuideSeq 1474  ACTGAGAGTGGATCCGAAAGTGG  0.153200\n",
      "3    GuideSeq 1178  GTTCTGCACCAGCACATTCACGG  0.192665\n",
      "4    GuideSeq 1010  ACTGGATGGACAAGACTGGTGGG  0.229076\n",
      "..             ...                      ...       ...\n",
      "299  GuideSeq 1413  TATGAAGCATGGGTCTGAGTCGG  0.108374\n",
      "300   GuideSeq 721  ATGTTGGACAGCTGCCCGGTGGG  0.203401\n",
      "301   GuideSeq 234  GACCAGGGCCACATCTTTAAAGG  0.143219\n",
      "302   GuideSeq 894  AGTAGACTGACCTGGTAGGAGGG  0.200965\n",
      "303   GuideSeq 197  CTCCAAATGGCAAAGCAGTTAGG  0.316619\n",
      "\n",
      "[304 rows x 3 columns]}\n"
     ]
    }
   ],
   "source": [
    "#Then, proceed with the usual data loader\n",
    "from tdc.single_pred import CRISPROutcome\n",
    "data = CRISPROutcome(name = 'Leenay', label_name = label_list[0])\n",
    "df = data.get_split()\n",
    "print(df)"
   ]
  },
  {
   "cell_type": "code",
   "execution_count": 4,
   "metadata": {},
   "outputs": [
    {
     "name": "stdout",
     "output_type": "stream",
     "text": [
      "DataFrame converted and saved to CSV successfully.\n",
      "        GuideSeq_ID                 GuideSeq         Y\n",
      "0        GuideSeq 1  CTGCAGGGCTAGTTTCCTATAGG  0.069572\n",
      "1        GuideSeq 2  GAGATGCGGACCACCCAGCTGGG  0.287647\n",
      "2        GuideSeq 3  GCAAACGGAAGTGCAATTGTCGG  0.137004\n",
      "3        GuideSeq 4  GTCATCGCTGAGTTGAGGAAGGG  0.093889\n",
      "4        GuideSeq 5  ATATGATTATCCCTGCACAAGGG  0.526525\n",
      "...             ...                      ...       ...\n",
      "1060  GuideSeq 1517  ATGCCCGACCAAAGACAACCAGG  0.093236\n",
      "1061  GuideSeq 1518  CACGCTGTCATCCACCAGGTAGG  0.069054\n",
      "1062  GuideSeq 1519  GGGCTCCAGAGTCTGATACAGGG  0.421439\n",
      "1063  GuideSeq 1520  AAAGACTTCGGTCCTCTAGTAGG  0.206277\n",
      "1064  GuideSeq 1521  TCGTCGCCCAGTGTCCAAGTGGG  0.284117\n",
      "\n",
      "[1065 rows x 3 columns]\n"
     ]
    }
   ],
   "source": [
    "import pandas as pd\n",
    "# Convert the dictionary to a DataFrame\n",
    "df = pd.DataFrame(df['train'])\n",
    "\n",
    "# Write the DataFrame to a CSV file\n",
    "df.to_csv('train.csv', index=False)\n",
    "\n",
    "print('DataFrame converted and saved to CSV successfully.')\n",
    "print(df)"
   ]
  },
  {
   "cell_type": "code",
   "execution_count": 5,
   "metadata": {},
   "outputs": [
    {
     "name": "stdout",
     "output_type": "stream",
     "text": [
      "Requirement already satisfied: xgboost in /workspace/.pyenv_mirror/user/current/lib/python3.11/site-packages (2.0.0)\n",
      "Requirement already satisfied: numpy in /workspace/.pyenv_mirror/user/current/lib/python3.11/site-packages (from xgboost) (1.26.0)\n",
      "Requirement already satisfied: scipy in /workspace/.pyenv_mirror/user/current/lib/python3.11/site-packages (from xgboost) (1.11.3)\n"
     ]
    }
   ],
   "source": [
    "!pip install xgboost\n"
   ]
  },
  {
   "cell_type": "markdown",
   "metadata": {},
   "source": [
    "## Importing the Libraries "
   ]
  },
  {
   "cell_type": "code",
   "execution_count": 6,
   "metadata": {},
   "outputs": [],
   "source": [
    "import pandas as pd\n",
    "from sklearn.model_selection import train_test_split\n",
    "from sklearn.linear_model import LinearRegression\n",
    "from sklearn.ensemble import RandomForestRegressor, GradientBoostingRegressor\n",
    "from sklearn.svm import SVR\n",
    "from sklearn.metrics import mean_squared_error, r2_score\n",
    "from sklearn.preprocessing import LabelEncoder\n",
    "from sklearn.model_selection import cross_val_score\n",
    "from xgboost import XGBRegressor\n",
    "\n",
    "# Assuming df is your DataFrame with columns 'GuideSeq_ID', 'GuideSeq', and 'Y'\n",
    "\n",
    "train_df = pd.read_csv(\"/workspace/Crispr-repair-outcome/train.csv\")\n",
    "\n",
    "train_GuideSeq = train_df['GuideSeq']\n",
    "train_Y = train_df['Y']"
   ]
  },
  {
   "cell_type": "markdown",
   "metadata": {},
   "source": [
    "## Encoding "
   ]
  },
  {
   "cell_type": "code",
   "execution_count": 7,
   "metadata": {},
   "outputs": [],
   "source": [
    "# Encode GuideSeq column if needed (assuming it's categorical)\n",
    "label_encoder = LabelEncoder()\n",
    "train_df['GuideSeq_encoded'] = label_encoder.fit_transform(train_GuideSeq)"
   ]
  },
  {
   "cell_type": "markdown",
   "metadata": {},
   "source": [
    "##  Data Spltting"
   ]
  },
  {
   "cell_type": "code",
   "execution_count": 8,
   "metadata": {},
   "outputs": [],
   "source": [
    "# Split the data into features (X) and target variable (y)\n",
    "X = train_df[['GuideSeq_encoded']]  # Use appropriate features\n",
    "y = train_df['Y']\n",
    "\n",
    "# Split the data into training and testing sets\n",
    "X_train, X_test, y_train, y_test = train_test_split(X, y, test_size=0.2, random_state=42)"
   ]
  },
  {
   "cell_type": "markdown",
   "metadata": {},
   "source": [
    "## Model Buidling"
   ]
  },
  {
   "cell_type": "code",
   "execution_count": 9,
   "metadata": {},
   "outputs": [],
   "source": [
    "# Models\n",
    "models = {\n",
    "    'Linear Regression': LinearRegression(),\n",
    "    'Random Forest': RandomForestRegressor(),\n",
    "    'Gradient Boosting': GradientBoostingRegressor(),\n",
    "    'SVR': SVR(),\n",
    "    'XGBoost': XGBRegressor()\n",
    "}"
   ]
  },
  {
   "cell_type": "markdown",
   "metadata": {},
   "source": [
    "## Model Prediction and Evaluation"
   ]
  },
  {
   "cell_type": "code",
   "execution_count": 11,
   "metadata": {},
   "outputs": [
    {
     "name": "stdout",
     "output_type": "stream",
     "text": [
      "Model: Linear Regression\n",
      "Mean Squared Error: 0.026341545003016255\n",
      "R-squared: 0.00048572515817491\n"
     ]
    },
    {
     "name": "stdout",
     "output_type": "stream",
     "text": [
      "Model: Random Forest\n",
      "Mean Squared Error: 0.040205208959047424\n",
      "R-squared: -0.525562766837133\n",
      "Model: Gradient Boosting\n",
      "Mean Squared Error: 0.02829937647694578\n",
      "R-squared: -0.0738030269140022\n",
      "Model: SVR\n",
      "Mean Squared Error: 0.026518294287601614\n",
      "R-squared: -0.006220921433394144\n",
      "Model: XGBoost\n",
      "Mean Squared Error: 0.03554477528886801\n",
      "R-squared: -0.34872538012483445\n"
     ]
    }
   ],
   "source": [
    "for model_name, model in models.items():\n",
    "    model.fit(X_train, y_train)  # Train the model\n",
    "    y_pred = model.predict(X_test)  # Make predictions\n",
    "    mse = mean_squared_error(y_test, y_pred)\n",
    "    r2 = r2_score(y_test, y_pred)\n",
    "    print(f'Model: {model_name}')\n",
    "    print(f'Mean Squared Error: {mse}')\n",
    "    print(f'R-squared: {r2}')"
   ]
  },
  {
   "cell_type": "markdown",
   "metadata": {},
   "source": [
    "## Save the Model to a Pickle File"
   ]
  },
  {
   "cell_type": "code",
   "execution_count": 12,
   "metadata": {},
   "outputs": [
    {
     "name": "stdout",
     "output_type": "stream",
     "text": [
      "Best model saved to best_model.pkl\n"
     ]
    }
   ],
   "source": [
    "import pickle\n",
    "\n",
    "best_model = None\n",
    "best_r2 = float('-inf')  # Initialize with negative infinity\n",
    "\n",
    "# Check if the current model has a higher R-squared than the best so far\n",
    "if r2 > best_r2:\n",
    "    best_r2 = r2\n",
    "    best_model = model\n",
    "\n",
    "\n",
    "# Save the best model to a file using pickle\n",
    "if best_model is not None:\n",
    "    with open('regression.pkl', 'wb') as file:\n",
    "        pickle.dump(best_model, file)\n",
    "        print('Best model saved to best_model.pkl')\n",
    "else:\n",
    "    print('No best model found.')"
   ]
  },
  {
   "cell_type": "code",
   "execution_count": null,
   "metadata": {},
   "outputs": [],
   "source": []
  }
 ],
 "metadata": {
  "kernelspec": {
   "display_name": "Python 3",
   "language": "python",
   "name": "python3"
  },
  "language_info": {
   "codemirror_mode": {
    "name": "ipython",
    "version": 3
   },
   "file_extension": ".py",
   "mimetype": "text/x-python",
   "name": "python",
   "nbconvert_exporter": "python",
   "pygments_lexer": "ipython3",
   "version": "3.11.5"
  },
  "orig_nbformat": 4
 },
 "nbformat": 4,
 "nbformat_minor": 2
}
