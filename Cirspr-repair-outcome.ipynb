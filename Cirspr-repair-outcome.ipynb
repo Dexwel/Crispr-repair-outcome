{
 "cells": [
  {
   "cell_type": "markdown",
   "metadata": {},
   "source": [
    "## Overview\n",
    "\n",
    "pyTDC is a Python package that stands for Target Discovery Toolkit. It's designed to provide tools and utilities for target discovery in drug discovery and development. The toolkit aims to help researchers and practitioners in the field of drug discovery to access and use various target discovery methods, databases, and related information. Here we are retrieving dataset from pyTDC for crispr repair outcome prediction"
   ]
  },
  {
   "cell_type": "markdown",
   "metadata": {},
   "source": [
    "## Installation\n",
    "To install pyTDC, use the following command:"
   ]
  },
  {
   "cell_type": "code",
   "execution_count": null,
   "metadata": {},
   "outputs": [],
   "source": [
    "!pip install pyTDC"
   ]
  },
  {
   "cell_type": "markdown",
   "metadata": {},
   "source": [
    "## Usage\n",
    "Importing the Package and acessing the target Discovery Method"
   ]
  },
  {
   "cell_type": "code",
   "execution_count": null,
   "metadata": {},
   "outputs": [],
   "source": [
    "#To obtain the label names,\n",
    "from tdc.utils import retrieve_label_name_list\n",
    "label_list = retrieve_label_name_list('Leenay')"
   ]
  },
  {
   "cell_type": "code",
   "execution_count": null,
   "metadata": {},
   "outputs": [],
   "source": [
    "#Then, proceed with the usual data loader\n",
    "from tdc.single_pred import CRISPROutcome\n",
    "data = CRISPROutcome(name = 'Leenay', label_name = label_list[0])\n",
    "df = data.get_split()\n",
    "print(df)"
   ]
  },
  {
   "cell_type": "markdown",
   "metadata": {},
   "source": [
    "## Importing the Datasets using Pandas"
   ]
  },
  {
   "cell_type": "code",
   "execution_count": null,
   "metadata": {},
   "outputs": [],
   "source": [
    "import pandas as pd\n",
    "# Convert the dictionary to a DataFrame\n",
    "df = pd.DataFrame(df['train'])\n",
    "\n",
    "# Write the DataFrame to a CSV file\n",
    "df.to_csv('train.csv', index=False)\n",
    "\n",
    "print('DataFrame converted and saved to CSV successfully.')\n",
    "print(df)"
   ]
  },
  {
   "cell_type": "code",
   "execution_count": null,
   "metadata": {},
   "outputs": [],
   "source": [
    "!pip install xgboost"
   ]
  },
  {
   "cell_type": "markdown",
   "metadata": {},
   "source": [
    "## Importing the Libraries "
   ]
  },
  {
   "cell_type": "code",
   "execution_count": null,
   "metadata": {},
   "outputs": [],
   "source": [
    "import pandas as pd\n",
    "from sklearn.model_selection import train_test_split\n",
    "from sklearn.linear_model import LinearRegression\n",
    "from sklearn.ensemble import RandomForestRegressor, GradientBoostingRegressor\n",
    "from sklearn.svm import SVR\n",
    "from sklearn.metrics import mean_squared_error, r2_score\n",
    "from sklearn.preprocessing import LabelEncoder\n",
    "from sklearn.model_selection import cross_val_score\n",
    "from xgboost import XGBRegressor\n",
    "\n",
    "# Assuming df is your DataFrame with columns 'GuideSeq_ID', 'GuideSeq', and 'Y'\n",
    "\n",
    "data = pd.read_csv(\"/workspace/Crispr-repair-outcome/train.csv\")\n",
    "\n",
    "train_GuideSeq = data['GuideSeq']\n",
    "train_Y = data['Y']"
   ]
  },
  {
   "cell_type": "markdown",
   "metadata": {},
   "source": [
    "## Encoding \n",
    "\n",
    "    Transform GuideSeq to numerical codes using `LabelEncoder` (assuming categorical data)."
   ]
  },
  {
   "cell_type": "code",
   "execution_count": null,
   "metadata": {},
   "outputs": [],
   "source": [
    "# Encode GuideSeq column if needed (assuming it's categorical)\n",
    "label_encoder = LabelEncoder()\n",
    "train_df['GuideSeq_encoded'] = label_encoder.fit_transform(train_GuideSeq)"
   ]
  },
  {
   "cell_type": "markdown",
   "metadata": {},
   "source": [
    "##  Data Spltting\n",
    "    Separate features and target (X and y), then split into training and testing sets (80/20 ratio)."
   ]
  },
  {
   "cell_type": "code",
   "execution_count": null,
   "metadata": {},
   "outputs": [],
   "source": [
    "# Split the data into features (X) and target variable (y)\n",
    "X = train_df[['GuideSeq_encoded']]  # Use appropriate features\n",
    "y = train_df['Y']\n",
    "\n",
    "# Split the data into training and testing sets\n",
    "X_train, X_test, y_train, y_test = train_test_split(X, y, test_size=0.2, random_state=42)"
   ]
  },
  {
   "cell_type": "markdown",
   "metadata": {},
   "source": [
    "## Model Buidling"
   ]
  },
  {
   "cell_type": "code",
   "execution_count": null,
   "metadata": {},
   "outputs": [],
   "source": [
    "# Models\n",
    "models = {\n",
    "    'Linear Regression': LinearRegression(),\n",
    "    'Random Forest': RandomForestRegressor(),\n",
    "    'Gradient Boosting': GradientBoostingRegressor(),\n",
    "    'SVR': SVR(),\n",
    "    'XGBoost': XGBRegressor()\n",
    "}"
   ]
  },
  {
   "cell_type": "markdown",
   "metadata": {},
   "source": [
    "## Model Prediction and Evaluation"
   ]
  },
  {
   "cell_type": "code",
   "execution_count": null,
   "metadata": {},
   "outputs": [],
   "source": [
    "for model_name, model in models.items():\n",
    "    model.fit(X_train, y_train)  # Train the model\n",
    "    y_pred = model.predict(X_test)  # Make predictions\n",
    "    mse = mean_squared_error(y_test, y_pred)\n",
    "    r2 = r2_score(y_test, y_pred)\n",
    "    print(f'Model: {model_name}')\n",
    "    print(f'Mean Squared Error: {mse}')\n",
    "    print(f'R-squared: {r2}')"
   ]
  },
  {
   "cell_type": "markdown",
   "metadata": {},
   "source": [
    "## Save the Model to a Pickle File"
   ]
  },
  {
   "cell_type": "code",
   "execution_count": null,
   "metadata": {},
   "outputs": [],
   "source": [
    "import pickle\n",
    "\n",
    "best_model = None\n",
    "best_r2 = float('-inf')  # Initialize with negative infinity\n",
    "\n",
    "# Check if the current model has a higher R-squared than the best so far\n",
    "if r2 > best_r2:\n",
    "    best_r2 = r2\n",
    "    best_model = model\n",
    "\n",
    "\n",
    "# Save the best model to a file using pickle\n",
    "if best_model is not None:\n",
    "    with open('regression.pkl', 'wb') as file:\n",
    "        pickle.dump(best_model, file)\n",
    "        print('Best model saved to best_model.pkl')\n",
    "else:\n",
    "    print('No best model found.')"
   ]
  },
  {
   "cell_type": "markdown",
   "metadata": {},
   "source": [
    "## Model Prediction\n",
    "\n",
    "Test the best linear regression model using `X_train` and `y_train`. Predict the damage for a new gRNA sequence length and classify it as \"Damaging\" or \"Not Damaging\" based on a threshold of 0.5. Print the predicted damage value and the gRNA effect. Additionally, iterate through various models, train them, predict using `X_test`, and classify predictions based on the threshold, storing the results in `y_pred_classification`."
   ]
  },
  {
   "cell_type": "code",
   "execution_count": null,
   "metadata": {},
   "outputs": [],
   "source": [
    "import numpy as np\n",
    "from sklearn.linear_model import LinearRegression\n",
    "from sklearn.metrics import mean_squared_error, r2_score, accuracy_score, precision_score, recall_score\n",
    "\n",
    "# Assuming X and y are already prepared and contain the appropriate data\n",
    "\n",
    "# Train a linear regression model\n",
    "# Train the model using X (features) and y (target)\n",
    "regression_model = LinearRegression()\n",
    "regression_model.fit(X_train, y_train) \n",
    "\n",
    "# Threshold for classification\n",
    "classification_threshold = 0.5\n",
    "\n",
    "# New sequence length for prediction\n",
    "gRNA_sequence = np.array([len(\"ACTTAGACAAGACAAGTAGACA\")]).reshape(-1, 1)\n",
    "\n",
    "# Predict using the model\n",
    "predicted_damage = regression_model.predict(gRNA_sequence)\n",
    "\n",
    "# Classify the prediction based on the threshold\n",
    "prediction_label = \"Damaging\" if predicted_damage >= classification_threshold else \"Not Damaging\"\n",
    "\n",
    "print(\"Predicted Damage Value:\", predicted_damage[0])\n",
    "print(\"Effect of the gRNA:\", prediction_label)\n",
    "\n",
    "# Define the classification threshold\n",
    "classification_threshold = 0.5\n",
    "\n",
    "for model_name, model in models.items():\n",
    "    model.fit(X_train, y_train)  # Train the model\n",
    "    y_pred = model.predict(X_test)  # Make predictions\n",
    "\n",
    "# Classify predictions based on the threshold\n",
    "y_pred_classification = np.where(y_pred >= classification_threshold, 1, 0)\n",
    "\n",
    "   "
   ]
  }
 ],
 "metadata": {
  "kernelspec": {
   "display_name": "Python 3",
   "language": "python",
   "name": "python3"
  },
  "language_info": {
   "codemirror_mode": {
    "name": "ipython",
    "version": 3
   },
   "file_extension": ".py",
   "mimetype": "text/x-python",
   "name": "python",
   "nbconvert_exporter": "python",
   "pygments_lexer": "ipython3",
   "version": "3.11.5"
  },
  "orig_nbformat": 4
 },
 "nbformat": 4,
 "nbformat_minor": 2
}
