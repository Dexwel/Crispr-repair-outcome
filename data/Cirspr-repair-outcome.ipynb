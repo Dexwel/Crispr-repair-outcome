{
 "cells": [
  {
   "cell_type": "code",
   "execution_count": null,
   "metadata": {},
   "outputs": [],
   "source": [
    "!pip install pyTDC"
   ]
  },
  {
   "cell_type": "code",
   "execution_count": 27,
   "metadata": {},
   "outputs": [],
   "source": [
    "#To obtain the label names,\n",
    "\n",
    "from tdc.utils import retrieve_label_name_list\n",
    "label_list = retrieve_label_name_list('Leenay')"
   ]
  },
  {
   "cell_type": "code",
   "execution_count": 31,
   "metadata": {},
   "outputs": [
    {
     "name": "stderr",
     "output_type": "stream",
     "text": [
      "Found local copy...\n",
      "Loading...\n",
      "Done!\n"
     ]
    },
    {
     "name": "stdout",
     "output_type": "stream",
     "text": [
      "{'train':         GuideSeq_ID                 GuideSeq         Y\n",
      "0        GuideSeq 1  CTGCAGGGCTAGTTTCCTATAGG  0.069572\n",
      "1        GuideSeq 2  GAGATGCGGACCACCCAGCTGGG  0.287647\n",
      "2        GuideSeq 3  GCAAACGGAAGTGCAATTGTCGG  0.137004\n",
      "3        GuideSeq 4  GTCATCGCTGAGTTGAGGAAGGG  0.093889\n",
      "4        GuideSeq 5  ATATGATTATCCCTGCACAAGGG  0.526525\n",
      "...             ...                      ...       ...\n",
      "1060  GuideSeq 1517  ATGCCCGACCAAAGACAACCAGG  0.093236\n",
      "1061  GuideSeq 1518  CACGCTGTCATCCACCAGGTAGG  0.069054\n",
      "1062  GuideSeq 1519  GGGCTCCAGAGTCTGATACAGGG  0.421439\n",
      "1063  GuideSeq 1520  AAAGACTTCGGTCCTCTAGTAGG  0.206277\n",
      "1064  GuideSeq 1521  TCGTCGCCCAGTGTCCAAGTGGG  0.284117\n",
      "\n",
      "[1065 rows x 3 columns], 'valid':        GuideSeq_ID                 GuideSeq         Y\n",
      "0     GuideSeq 841  CCTTGTGAATCTCCTCACGGAGG  0.394674\n",
      "1     GuideSeq 101  CGCTTTACCTGCGACCAGGTAGG  0.072320\n",
      "2     GuideSeq 235  CATTCTCCAAGTGACAAGGTAGG  0.049883\n",
      "3     GuideSeq 162  CTTGGTCATGCCTTCCCGGTAGG  0.206285\n",
      "4     GuideSeq 421  AAAGTACTCGAAGTATTCTTGGG  0.061223\n",
      "..             ...                      ...       ...\n",
      "147   GuideSeq 986  TTTACTCTCAGAAACCTACCTGG  0.113981\n",
      "148   GuideSeq 744  GATGAGGCCTGTAGAGACGTAGG  0.092636\n",
      "149  GuideSeq 1447  TTGCCTACTCACTTCCTTGGAGG  0.211790\n",
      "150   GuideSeq 521  CTATCCCTCACGATGGAAGTAGG  0.089396\n",
      "151  GuideSeq 1029  ATGGGTGACCGGCTGCTATTGGG  0.391708\n",
      "\n",
      "[152 rows x 3 columns], 'test':        GuideSeq_ID                 GuideSeq         Y\n",
      "0     GuideSeq 567  TGTGCAATATCTGGTACTAAGGG  0.176660\n",
      "1    GuideSeq 1102  TGTCTGGCCAGCAGAATACAGGG  0.300800\n",
      "2    GuideSeq 1474  ACTGAGAGTGGATCCGAAAGTGG  0.153200\n",
      "3    GuideSeq 1178  GTTCTGCACCAGCACATTCACGG  0.192665\n",
      "4    GuideSeq 1010  ACTGGATGGACAAGACTGGTGGG  0.229076\n",
      "..             ...                      ...       ...\n",
      "299  GuideSeq 1413  TATGAAGCATGGGTCTGAGTCGG  0.108374\n",
      "300   GuideSeq 721  ATGTTGGACAGCTGCCCGGTGGG  0.203401\n",
      "301   GuideSeq 234  GACCAGGGCCACATCTTTAAAGG  0.143219\n",
      "302   GuideSeq 894  AGTAGACTGACCTGGTAGGAGGG  0.200965\n",
      "303   GuideSeq 197  CTCCAAATGGCAAAGCAGTTAGG  0.316619\n",
      "\n",
      "[304 rows x 3 columns]}\n"
     ]
    }
   ],
   "source": [
    "#Then, proceed with the usual data loader\n",
    "from tdc.single_pred import CRISPROutcome\n",
    "data = CRISPROutcome(name = 'Leenay', label_name = label_list[0])\n",
    "df = data.get_split()\n",
    "print(df)"
   ]
  },
  {
   "cell_type": "code",
   "execution_count": 29,
   "metadata": {},
   "outputs": [
    {
     "name": "stdout",
     "output_type": "stream",
     "text": [
      "DataFrame converted and saved to CSV successfully.\n",
      "        GuideSeq_ID                 GuideSeq         Y\n",
      "0        GuideSeq 1  CTGCAGGGCTAGTTTCCTATAGG  0.069572\n",
      "1        GuideSeq 2  GAGATGCGGACCACCCAGCTGGG  0.287647\n",
      "2        GuideSeq 3  GCAAACGGAAGTGCAATTGTCGG  0.137004\n",
      "3        GuideSeq 4  GTCATCGCTGAGTTGAGGAAGGG  0.093889\n",
      "4        GuideSeq 5  ATATGATTATCCCTGCACAAGGG  0.526525\n",
      "...             ...                      ...       ...\n",
      "1060  GuideSeq 1517  ATGCCCGACCAAAGACAACCAGG  0.093236\n",
      "1061  GuideSeq 1518  CACGCTGTCATCCACCAGGTAGG  0.069054\n",
      "1062  GuideSeq 1519  GGGCTCCAGAGTCTGATACAGGG  0.421439\n",
      "1063  GuideSeq 1520  AAAGACTTCGGTCCTCTAGTAGG  0.206277\n",
      "1064  GuideSeq 1521  TCGTCGCCCAGTGTCCAAGTGGG  0.284117\n",
      "\n",
      "[1065 rows x 3 columns]\n"
     ]
    }
   ],
   "source": [
    "# Convert the dictionary to a DataFrame\n",
    "df = pd.DataFrame(df['train'])\n",
    "\n",
    "# Write the DataFrame to a CSV file\n",
    "df.to_csv('train.csv', index=False)\n",
    "\n",
    "print('DataFrame converted and saved to CSV successfully.')\n",
    "print(df)"
   ]
  },
  {
   "cell_type": "code",
   "execution_count": 23,
   "metadata": {},
   "outputs": [
    {
     "name": "stdout",
     "output_type": "stream",
     "text": [
      "        GuideSeq_ID                 GuideSeq         Y\n",
      "0        GuideSeq 1  CTGCAGGGCTAGTTTCCTATAGG  0.069572\n",
      "1        GuideSeq 2  GAGATGCGGACCACCCAGCTGGG  0.287647\n",
      "2        GuideSeq 3  GCAAACGGAAGTGCAATTGTCGG  0.137004\n",
      "3        GuideSeq 4  GTCATCGCTGAGTTGAGGAAGGG  0.093889\n",
      "4        GuideSeq 5  ATATGATTATCCCTGCACAAGGG  0.526525\n",
      "...             ...                      ...       ...\n",
      "1060  GuideSeq 1517  ATGCCCGACCAAAGACAACCAGG  0.093236\n",
      "1061  GuideSeq 1518  CACGCTGTCATCCACCAGGTAGG  0.069054\n",
      "1062  GuideSeq 1519  GGGCTCCAGAGTCTGATACAGGG  0.421439\n",
      "1063  GuideSeq 1520  AAAGACTTCGGTCCTCTAGTAGG  0.206277\n",
      "1064  GuideSeq 1521  TCGTCGCCCAGTGTCCAAGTGGG  0.284117\n",
      "\n",
      "[1065 rows x 3 columns]\n"
     ]
    }
   ],
   "source": [
    "train_data = df['train']\n",
    "print(train_data)\n"
   ]
  },
  {
   "cell_type": "code",
   "execution_count": 2,
   "metadata": {},
   "outputs": [],
   "source": [
    "import pandas as pd"
   ]
  },
  {
   "cell_type": "code",
   "execution_count": 3,
   "metadata": {},
   "outputs": [
    {
     "ename": "NameError",
     "evalue": "name 'df' is not defined",
     "output_type": "error",
     "traceback": [
      "\u001b[0;31m---------------------------------------------------------------------------\u001b[0m",
      "\u001b[0;31mNameError\u001b[0m                                 Traceback (most recent call last)",
      "Cell \u001b[0;32mIn[3], line 2\u001b[0m\n\u001b[1;32m      1\u001b[0m \u001b[39m# Convert the dictionary to a DataFrame\u001b[39;00m\n\u001b[0;32m----> 2\u001b[0m valid_df \u001b[39m=\u001b[39m pd\u001b[39m.\u001b[39mDataFrame(df[\u001b[39m'\u001b[39m\u001b[39mvalid\u001b[39m\u001b[39m'\u001b[39m])\n\u001b[1;32m      4\u001b[0m \u001b[39m# Write the DataFrame to a CSV file\u001b[39;00m\n\u001b[1;32m      5\u001b[0m valid_df\u001b[39m.\u001b[39mto_csv(\u001b[39m'\u001b[39m\u001b[39mvalid.csv\u001b[39m\u001b[39m'\u001b[39m, index\u001b[39m=\u001b[39m\u001b[39mFalse\u001b[39;00m)\n",
      "\u001b[0;31mNameError\u001b[0m: name 'df' is not defined"
     ]
    }
   ],
   "source": [
    "# Convert the dictionary to a DataFrame\n",
    "valid_df = pd.DataFrame(df['valid'])\n",
    "\n",
    "# Write the DataFrame to a CSV file\n",
    "valid_df.to_csv('valid.csv', index=False)\n",
    "\n",
    "print('DataFrame converted and saved to CSV successfully.')\n",
    "print(valid_df)\n",
    "\n",
    "data = pd.merge(df, valid_df)\n"
   ]
  },
  {
   "cell_type": "code",
   "execution_count": 25,
   "metadata": {},
   "outputs": [
    {
     "name": "stdout",
     "output_type": "stream",
     "text": [
      "Requirement already satisfied: xgboost in /home/gitpod/.pyenv/versions/3.11.5/lib/python3.11/site-packages (2.0.0)\n",
      "Requirement already satisfied: numpy in /home/gitpod/.pyenv/versions/3.11.5/lib/python3.11/site-packages (from xgboost) (1.26.0)\n",
      "Requirement already satisfied: scipy in /home/gitpod/.pyenv/versions/3.11.5/lib/python3.11/site-packages (from xgboost) (1.11.3)\n"
     ]
    }
   ],
   "source": [
    "!pip install xgboost\n"
   ]
  },
  {
   "cell_type": "code",
   "execution_count": 39,
   "metadata": {},
   "outputs": [
    {
     "name": "stdout",
     "output_type": "stream",
     "text": [
      "Model: Linear Regression\n",
      "Mean Squared Error: 0.026341545003016255\n",
      "R-squared: 0.00048572515817491\n",
      "Model: Random Forest\n",
      "Mean Squared Error: 0.040179007153728616\n",
      "R-squared: -0.5245685549015848\n"
     ]
    },
    {
     "name": "stdout",
     "output_type": "stream",
     "text": [
      "Model: Gradient Boosting\n",
      "Mean Squared Error: 0.02829937647694578\n",
      "R-squared: -0.0738030269140022\n",
      "Model: SVR\n",
      "Mean Squared Error: 0.026518294287601614\n",
      "R-squared: -0.006220921433394144\n",
      "Model: XGBoost\n",
      "Mean Squared Error: 0.03554477528886801\n",
      "R-squared: -0.34872538012483445\n"
     ]
    }
   ],
   "source": [
    "import pandas as pd\n",
    "from sklearn.model_selection import train_test_split\n",
    "from sklearn.linear_model import LinearRegression\n",
    "from sklearn.ensemble import RandomForestRegressor, GradientBoostingRegressor\n",
    "from sklearn.svm import SVR\n",
    "from sklearn.metrics import mean_squared_error, r2_score\n",
    "from sklearn.preprocessing import LabelEncoder\n",
    "from sklearn.model_selection import cross_val_score\n",
    "from xgboost import XGBRegressor\n",
    "\n",
    "# Assuming df is your DataFrame with columns 'GuideSeq_ID', 'GuideSeq', and 'Y'\n",
    "\n",
    "train_df = pd.read_csv(\"/workspace/Crispr-repair-outcome/train.csv\")\n",
    "# Encode GuideSeq column if needed (assuming it's categorical)\n",
    "\n",
    "train_GuideSeq = train_df['GuideSeq']\n",
    "train_Y = train_df['Y']\n",
    "\n",
    "# Accessing columns from the 'valid' DataFrame\n",
    "valid_df = pd.read_csv(\"/workspace/Crispr-repair-outcome/valid.csv\")\n",
    "valid_GuideSeq = valid_df['GuideSeq']\n",
    "valid_Y = valid_df['Y']\n",
    "\n",
    "# Assuming df is your DataFrame with columns 'GuideSeq_ID', 'GuideSeq', and 'Y'\n",
    "# Encode GuideSeq column if needed (assuming it's categorical)\n",
    "label_encoder = LabelEncoder()\n",
    "train_df['GuideSeq_encoded'] = label_encoder.fit_transform(train_GuideSeq)\n",
    "#valid_df['GuideSeq_encoded'] = label_encoder.transform(valid_GuideSeq)\n",
    "# Split the data into features (X) and target variable (y)\n",
    "X = train_df[['GuideSeq_encoded']]  # Use appropriate features\n",
    "y = train_df['Y']\n",
    "\n",
    "# Split the data into training and testing sets\n",
    "X_train, X_test, y_train, y_test = train_test_split(X, y, test_size=0.2, random_state=42)\n",
    "\n",
    "# Models\n",
    "models = {\n",
    "    'Linear Regression': LinearRegression(),\n",
    "    'Random Forest': RandomForestRegressor(),\n",
    "    'Gradient Boosting': GradientBoostingRegressor(),\n",
    "    'SVR': SVR(),\n",
    "    'XGBoost': XGBRegressor()\n",
    "}\n",
    "\n",
    "# Train and evaluate each model\n",
    "for model_name, model in models.items():\n",
    "    model.fit(X_train, y_train)  # Train the model\n",
    "    y_pred = model.predict(X_test)  # Make predictions\n",
    "\n",
    "    # Evaluate the model\n",
    "    mse = mean_squared_error(y_test, y_pred)\n",
    "    r2 = r2_score(y_test, y_pred)\n",
    "\n",
    "    print(f'Model: {model_name}')\n",
    "    print(f'Mean Squared Error: {mse}')\n",
    "    print(f'R-squared: {r2}')\n",
    "\n"
   ]
  },
  {
   "cell_type": "code",
   "execution_count": null,
   "metadata": {},
   "outputs": [],
   "source": []
  }
 ],
 "metadata": {
  "kernelspec": {
   "display_name": "Python 3",
   "language": "python",
   "name": "python3"
  },
  "language_info": {
   "codemirror_mode": {
    "name": "ipython",
    "version": 3
   },
   "file_extension": ".py",
   "mimetype": "text/x-python",
   "name": "python",
   "nbconvert_exporter": "python",
   "pygments_lexer": "ipython3",
   "version": "3.11.5"
  },
  "orig_nbformat": 4
 },
 "nbformat": 4,
 "nbformat_minor": 2
}
