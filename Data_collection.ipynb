{
 "cells": [
  {
   "cell_type": "code",
   "execution_count": null,
   "metadata": {},
   "outputs": [],
   "source": [
    "!pip install pyTDC"
   ]
  },
  {
   "cell_type": "code",
   "execution_count": 3,
   "metadata": {},
   "outputs": [],
   "source": [
    "#To obtain the label names,\n",
    "\n",
    "from tdc.utils import retrieve_label_name_list\n",
    "label_list = retrieve_label_name_list('Leenay')"
   ]
  },
  {
   "cell_type": "code",
   "execution_count": 4,
   "metadata": {},
   "outputs": [
    {
     "name": "stderr",
     "output_type": "stream",
     "text": [
      "Downloading...\n",
      "100%|██████████| 205k/205k [00:00<00:00, 846kiB/s] \n",
      "Loading...\n",
      "Done!\n"
     ]
    }
   ],
   "source": [
    "#Then, proceed with the usual data loader\n",
    "from tdc.single_pred import CRISPROutcome\n",
    "data = CRISPROutcome(name = 'Leenay', label_name = label_list[0])\n",
    "split = data.get_split()"
   ]
  },
  {
   "cell_type": "code",
   "execution_count": 8,
   "metadata": {},
   "outputs": [
    {
     "name": "stdout",
     "output_type": "stream",
     "text": [
      "{'train':         GuideSeq_ID                 GuideSeq         Y\n",
      "0        GuideSeq 1  CTGCAGGGCTAGTTTCCTATAGG  0.069572\n",
      "1        GuideSeq 2  GAGATGCGGACCACCCAGCTGGG  0.287647\n",
      "2        GuideSeq 3  GCAAACGGAAGTGCAATTGTCGG  0.137004\n",
      "3        GuideSeq 4  GTCATCGCTGAGTTGAGGAAGGG  0.093889\n",
      "4        GuideSeq 5  ATATGATTATCCCTGCACAAGGG  0.526525\n",
      "...             ...                      ...       ...\n",
      "1060  GuideSeq 1517  ATGCCCGACCAAAGACAACCAGG  0.093236\n",
      "1061  GuideSeq 1518  CACGCTGTCATCCACCAGGTAGG  0.069054\n",
      "1062  GuideSeq 1519  GGGCTCCAGAGTCTGATACAGGG  0.421439\n",
      "1063  GuideSeq 1520  AAAGACTTCGGTCCTCTAGTAGG  0.206277\n",
      "1064  GuideSeq 1521  TCGTCGCCCAGTGTCCAAGTGGG  0.284117\n",
      "\n",
      "[1065 rows x 3 columns], 'valid':        GuideSeq_ID                 GuideSeq         Y\n",
      "0     GuideSeq 841  CCTTGTGAATCTCCTCACGGAGG  0.394674\n",
      "1     GuideSeq 101  CGCTTTACCTGCGACCAGGTAGG  0.072320\n",
      "2     GuideSeq 235  CATTCTCCAAGTGACAAGGTAGG  0.049883\n",
      "3     GuideSeq 162  CTTGGTCATGCCTTCCCGGTAGG  0.206285\n",
      "4     GuideSeq 421  AAAGTACTCGAAGTATTCTTGGG  0.061223\n",
      "..             ...                      ...       ...\n",
      "147   GuideSeq 986  TTTACTCTCAGAAACCTACCTGG  0.113981\n",
      "148   GuideSeq 744  GATGAGGCCTGTAGAGACGTAGG  0.092636\n",
      "149  GuideSeq 1447  TTGCCTACTCACTTCCTTGGAGG  0.211790\n",
      "150   GuideSeq 521  CTATCCCTCACGATGGAAGTAGG  0.089396\n",
      "151  GuideSeq 1029  ATGGGTGACCGGCTGCTATTGGG  0.391708\n",
      "\n",
      "[152 rows x 3 columns], 'test':        GuideSeq_ID                 GuideSeq         Y\n",
      "0     GuideSeq 567  TGTGCAATATCTGGTACTAAGGG  0.176660\n",
      "1    GuideSeq 1102  TGTCTGGCCAGCAGAATACAGGG  0.300800\n",
      "2    GuideSeq 1474  ACTGAGAGTGGATCCGAAAGTGG  0.153200\n",
      "3    GuideSeq 1178  GTTCTGCACCAGCACATTCACGG  0.192665\n",
      "4    GuideSeq 1010  ACTGGATGGACAAGACTGGTGGG  0.229076\n",
      "..             ...                      ...       ...\n",
      "299  GuideSeq 1413  TATGAAGCATGGGTCTGAGTCGG  0.108374\n",
      "300   GuideSeq 721  ATGTTGGACAGCTGCCCGGTGGG  0.203401\n",
      "301   GuideSeq 234  GACCAGGGCCACATCTTTAAAGG  0.143219\n",
      "302   GuideSeq 894  AGTAGACTGACCTGGTAGGAGGG  0.200965\n",
      "303   GuideSeq 197  CTCCAAATGGCAAAGCAGTTAGG  0.316619\n",
      "\n",
      "[304 rows x 3 columns]}\n"
     ]
    }
   ],
   "source": [
    "print(split)"
   ]
  },
  {
   "cell_type": "code",
   "execution_count": null,
   "metadata": {},
   "outputs": [],
   "source": []
  }
 ],
 "metadata": {
  "kernelspec": {
   "display_name": "Python 3",
   "language": "python",
   "name": "python3"
  },
  "language_info": {
   "codemirror_mode": {
    "name": "ipython",
    "version": 3
   },
   "file_extension": ".py",
   "mimetype": "text/x-python",
   "name": "python",
   "nbconvert_exporter": "python",
   "pygments_lexer": "ipython3",
   "version": "3.11.4"
  },
  "orig_nbformat": 4
 },
 "nbformat": 4,
 "nbformat_minor": 2
}
